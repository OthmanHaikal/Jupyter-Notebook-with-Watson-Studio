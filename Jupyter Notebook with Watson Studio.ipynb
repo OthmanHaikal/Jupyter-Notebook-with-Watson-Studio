{
    "cells": [
        {
            "cell_type": "markdown",
            "metadata": {
                "collapsed": true
            },
            "source": "# My Jupyter Notebook on IBM Watson Studio"
        },
        {
            "cell_type": "markdown",
            "metadata": {},
            "source": "__Othman Noh__\nData Scientist"
        },
        {
            "cell_type": "markdown",
            "metadata": {},
            "source": "_I am interested in data science because it is interesting_"
        },
        {
            "cell_type": "markdown",
            "metadata": {},
            "source": "### This code will solve simple problem"
        },
        {
            "cell_type": "code",
            "execution_count": 1,
            "metadata": {
                "collapsed": true
            },
            "outputs": [
                {
                    "data": {
                        "text/plain": "102"
                    },
                    "execution_count": 1,
                    "metadata": {},
                    "output_type": "execute_result"
                }
            ],
            "source": "8+2-8+100"
        },
        {
            "cell_type": "markdown",
            "metadata": {},
            "source": "--- horizontal rule \n\n- bulleted list\n- another bulleted list\n\n1. hello\n1. how are you\n1. technology advances rapidly\n\n|Item|Description|Results|\n|---|---|---|\n|No1|Hel|Oki|\n\n~strikethrough~"
        },
        {
            "cell_type": "code",
            "execution_count": null,
            "metadata": {},
            "outputs": [],
            "source": ""
        }
    ],
    "metadata": {
        "kernelspec": {
            "display_name": "Python 3.10",
            "language": "python",
            "name": "python3"
        },
        "language_info": {
            "codemirror_mode": {
                "name": "ipython",
                "version": 3
            },
            "file_extension": ".py",
            "mimetype": "text/x-python",
            "name": "python",
            "nbconvert_exporter": "python",
            "pygments_lexer": "ipython3",
            "version": "3.10.9"
        }
    },
    "nbformat": 4,
    "nbformat_minor": 1
}